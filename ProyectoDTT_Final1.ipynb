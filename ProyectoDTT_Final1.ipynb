{
 "cells": [
  {
   "cell_type": "markdown",
   "metadata": {},
   "source": [
    "# Implementación de moldelo de deep learning\n",
    "## **Tercer Modelo:** Modelo mejorado con las instrucciones del profesor\n",
    "\n",
    "### Mariluz Daniela Sánchez Morales - A01422953\n",
    "\n",
    "> **Caso**: Clasificación de enfermedades comunes del tórax.\n",
    ">\n",
    "> **Dataset**: [NIH Chest X-rays de Kaggle](https://www.kaggle.com/datasets/nih-chest-xrays/data \"Link a Kaggle\")"
   ]
  },
  {
   "cell_type": "markdown",
   "metadata": {},
   "source": [
    "### **Desarrollo del Problema**: Detección de Enfermedades en Radiografías Torácicas con Deep Learning\n",
    "\n",
    "La interpretación de radiografías torácicas es una tarea crucial en el diagnóstico médico, sin embargo, la detección precisa de estas enfermedades en las imágenes de rayos X presenta grandes desafíos debido a que muchos de estos signos patológicos suelen sobreponerse sobre otros. La interpretación de estas radiografías deben ser interpretadas por radiólogos expertos; sin embargo, día a día la demanda de exámenes radiológicos crece y uno de los desafíos es la poca disponibilidad o falta de especialistas en radiología por lo existe la necesidad de buscar tecnologías para solucionar esta escasez en el sector de la salud.\n",
    "\n",
    "El objetivo de este proyecto es crear un modelo de deep learning que ayude a detectar automáticamente posibles enfermedades que puedan aparecer en radiografías torácicas proporcionando un “filtro preliminar” para identificar casos con alta probabilidad de alguna de las enfermedades comunes encontradas en el tórax. La automatización de esta tarea puede significar un gran apoyo en el área médica para la detección de anomalías en los casos que se presente.\n",
    "\n",
    "Para este proyecto, se utilizó el NIH Chest X-ray Dataset de Kaggle, un conjunto de datos público que contiene más de 112,000 imágenes de rayos X etiquetadas con 14 tipos de enfermedades pulmonares y a su vez también clasifica casos donde no se encuentre enfermedad."
   ]
  },
  {
   "cell_type": "markdown",
   "metadata": {},
   "source": [
    "# Objetivo\n",
    "\n",
    "El objetivo  de este código es mejorar el modelo inicial utilizando una arquitectura más avanzada inspirada en ResNet, con el fin de optimizar la clasificación multi-etiqueta de enfermedades comunes en el tórax.\n",
    "\n",
    "Incluye mejoras como el preprocesamiento de imágenes, una codificación multi-hot de etiquetas para clasificar múltiples enfermedades por imagen, y el uso de unidades residuales personalizadas para capturar características específicas en las radiografías. \n",
    "\n",
    "Se hace uso de técnicas de data augmentation y regularización.\n",
    "\n",
    "Aunque es más complejo, este enfoque logra una mayor precisión (accuracy de 0.609), acercándose más a una herramienta útil para la detección de múltiples enfermedades en imágenes médicas.Sin embargo debido a la complejidad del tema es importante buscar una mejora del modelo para acercarse a una mejor precisión."
   ]
  },
  {
   "cell_type": "code",
   "execution_count": 31,
   "metadata": {},
   "outputs": [],
   "source": [
    "import os\n",
    "import pandas as pd\n",
    "import numpy as np\n",
    "import tensorflow as tf\n",
    "from tensorflow import keras\n",
    "import matplotlib.pyplot as plt\n",
    "from sklearn.model_selection import train_test_split\n",
    "from sklearn.metrics import confusion_matrix, classification_report\n",
    "import seaborn as sns\n",
    "from tensorflow.keras import layers\n",
    "from tensorflow.keras.models import Model"
   ]
  },
  {
   "cell_type": "code",
   "execution_count": 32,
   "metadata": {},
   "outputs": [],
   "source": [
    "# Set seeds for reproducibility\n",
    "np.random.seed(42)\n",
    "tf.random.set_seed(42)"
   ]
  },
  {
   "cell_type": "markdown",
   "metadata": {},
   "source": [
    "# Carga y Filtrado de Datos\n",
    "\n",
    "Asi como en el primer modelo se carga en un DataFrame de Pandas el archivo CSV donde se incluye únicamente las imágenes disponibles en el sistema, asegurando que el entrenamiento no fallará por intentos de acceso a archivos inexistentes.\n",
    "\n",
    "## División de Datos en Conjuntos de Entrenamiento, Validación y Prueba\n",
    "\n",
    "En esta misma sección se divide el conjunto de datos en 3 partes (train, validation, test) para garantizar que el modelo pueda evaluarse con datos desconocidos por el mismo durante el entrenamiento, esto con el fin de garantizar una mejor generalización del segundo modelo que a diferencia del primero, este separa el 30% de los datos para validación y prueba, manteniendo un 70% para el entrenamiento.\n"
   ]
  },
  {
   "cell_type": "code",
   "execution_count": 33,
   "metadata": {},
   "outputs": [],
   "source": [
    "# Load the CSV into a DataFrame\n",
    "df = pd.read_csv('Data_Entry_2017.csv')\n",
    "\n",
    "# Define a single path to your image folder\n",
    "image_folder = 'images_Train/images'\n",
    "\n",
    "# List all available image files in the folder\n",
    "all_images = set(os.listdir(image_folder))\n",
    "\n",
    "# Filter the DataFrame for only images present in the folder\n",
    "df = df[df['Image Index'].isin(all_images)]\n",
    "\n",
    "# Use train_test_split to split the DataFrame\n",
    "train_df, temp_df = train_test_split(df, test_size=0.3, random_state=42)\n",
    "val_df, test_df = train_test_split(temp_df, test_size=0.5, random_state=42)\n",
    "\n",
    "# Save the subsets to new CSV files (optional)\n",
    "train_df.to_csv(\"train_labels.csv\", index=False)\n",
    "val_df.to_csv(\"val_labels.csv\", index=False)\n",
    "test_df.to_csv(\"test_labels.csv\", index=False)"
   ]
  },
  {
   "cell_type": "markdown",
   "metadata": {},
   "source": [
    "# Codificación de Etiquetas Multiclase como Vectores Multi-Hot\n",
    "\n",
    "El modelo debe identificar múltiples enfermedades a partir de las radiografías, ya que cada imagen puede presentar varias condiciones puesto que estas enfermedades pueden aparecer sobrepuestas (p. ej., Cardiomegalia y Efusión). \n",
    "Por ello, el sistema necesita una codificación multi-hot para clasificar correctamente las radiografías con más de una enfermedad. Aquí:\n",
    "\n",
    "- Cada enfermedad está asociada con un índice numérico.\n",
    "- La función *process_labels* convierte las etiquetas de texto (p. ej., \"Cardiomegaly\") a un vector multi-hot en el que cada posición representa una enfermedad.\n",
    "- Esto significa que, para cada imagen, el vector de etiquetas indicará con 1 si la enfermedad está presente y con 0 si no lo está.\n",
    "- Este mapeo y codificación permiten que el modelo entienda las etiquetas como datos numéricos y pueda trabajar con imágenes que presentan más de una condición\n",
    "\n",
    "Este enfoque es **esencial** para el problema y el modelo debe estar preparado para predecir múltiples etiquetas simultáneamente."
   ]
  },
  {
   "cell_type": "code",
   "execution_count": 34,
   "metadata": {},
   "outputs": [],
   "source": [
    "# Map disease names to integer labels\n",
    "disease_to_label = {\n",
    "    \"Atelectasis\": 0, \"Cardiomegaly\": 1, \"Effusion\": 2, \"Infiltration\": 3, \n",
    "    \"Mass\": 4, \"Nodule\": 5, \"Pneumonia\": 6, \"Pneumothorax\": 7, \n",
    "    \"Consolidation\": 8, \"Edema\": 9, \"Emphysema\": 10, \"Fibrosis\": 11, \n",
    "    \"Pleural_Thickening\": 12, \"Hernia\": 13, \"No Finding\": 14\n",
    "}"
   ]
  },
  {
   "cell_type": "code",
   "execution_count": 35,
   "metadata": {},
   "outputs": [],
   "source": [
    "# Return a multi-hot encoded label vector\n",
    "def process_labels(label_str):\n",
    "    labels = label_str.split('|')\n",
    "    label_vector = [0] * len(disease_to_label)  # Initialize vector with zeros\n",
    "    for label in labels:\n",
    "        label_index = disease_to_label[label]\n",
    "        label_vector[label_index] = 1  # Set position to 1 for each disease present\n",
    "    return label_vector"
   ]
  },
  {
   "cell_type": "markdown",
   "metadata": {},
   "source": [
    "# Preprocesamiento y Carga de Imágenes en TensorFlow Datasets\n",
    "\n",
    "En este caso se crea la función *load_image* que se encarga de decodificar las imágenes y las redimensiona a un tamaño consistente de 244x244 píxeles. Esto con el fin de estandarizar las entradas al modelo y facilita la eficiencia en procesamiento y entrenamiento.\n"
   ]
  },
  {
   "cell_type": "code",
   "execution_count": 36,
   "metadata": {},
   "outputs": [],
   "source": [
    "# Load and preprocess images\n",
    "def load_image(file_path, label):\n",
    "    img = tf.io.read_file(file_path)\n",
    "    img = tf.image.decode_jpeg(img, channels=3)\n",
    "    img = tf.image.resize(img, [244, 244])\n",
    "    return img, label"
   ]
  },
  {
   "cell_type": "markdown",
   "metadata": {},
   "source": [
    "# Preparación de Conjuntos de Datos para Entrenamiento, Validación y Prueba \n",
    "\n",
    "Para que el modelo pueda entrenarse sin problemas, se debe organizar el dataset en un formato adecuado y las imágenes deben estar preprocesadas:\n",
    "\n",
    "1. **Obtener rutas y etiquetas:** se obtienen las rutas de las imágenes y se transforman las etiquetas en vectores multi-hot.\n",
    "2. **Preprocesamiento de imágenes:**\n",
    "    - Las imágenes se cargan y se redimensionan a 244x244 píxeles para uniformidad en el modelo.\n",
    "3. **Creación del dataset:** se transforma el dataset en un tf.data.Dataset, optimizando la carga en mini-lotes de tamaño 32 para facilitar el entrenamiento.\n",
    "\n",
    "Esto facilita la carga en memoria durante el entrenamiento y es fundamental para que el modelo procese datos de manera eficiente."
   ]
  },
  {
   "cell_type": "code",
   "execution_count": 37,
   "metadata": {},
   "outputs": [],
   "source": [
    "# Prepare datasets for training, validation, and test\n",
    "def prepare_dataset(df, folder_path):\n",
    "    # Get file paths and labels\n",
    "    image_paths = [os.path.join(folder_path, fname) for fname in df[\"Image Index\"].values]\n",
    "    labels = [process_labels(lbl) for lbl in df[\"Finding Labels\"].values]\n",
    "\n",
    "    # Convert multi-labels to a multi-hot encoded vector\n",
    "    labels = tf.keras.preprocessing.sequence.pad_sequences(labels, maxlen=15, dtype='int32', padding=\"post\", value=0)\n",
    "    \n",
    "    # Create TensorFlow dataset\n",
    "    file_paths_dataset = tf.data.Dataset.from_tensor_slices((image_paths, labels))\n",
    "    image_label_dataset = file_paths_dataset.map(lambda path, label: load_image(path, label))\n",
    "    return image_label_dataset.batch(32)"
   ]
  },
  {
   "cell_type": "code",
   "execution_count": 38,
   "metadata": {},
   "outputs": [],
   "source": [
    "# Create datasets \n",
    "train_dataset = prepare_dataset(train_df, image_folder)\n",
    "val_dataset = prepare_dataset(val_df, image_folder)\n",
    "test_dataset = prepare_dataset(test_df, image_folder)"
   ]
  },
  {
   "cell_type": "markdown",
   "metadata": {},
   "source": [
    "# Arquitectura de la Unidad Residual Personalizada\n",
    "\n",
    "Finalmente se crea la arquitectura ResNet la cual mejora el entrenamiento de redes profundas al permitir que las características aprendidas en capas previas pasen directamente a capas que le siguen. \n",
    "\n",
    "En este caso, esta característica resulta útil en este caso ya que se necesita aprender patrones sutiles y no lineales en los datos puesto que las radriografías normalmente presentan estas caracteristicas complejas. \n",
    "\n",
    "En esta sección se define la unidad residual que facilitará que que lo aprendido durante el entrenamiento se trasnmitan eficientemente, además las conexiones residuales ayudan a evitar que el modelo pierda precisión a medida que aumenta la profundidad de la red\n",
    "\n",
    "De igual forma se incluyen capas Dropout y Batch Normalization para reducir el sobreajuste principalmente por la reduccuin del dataset que se hizo para evitar problemas con el procesamiento computacional."
   ]
  },
  {
   "cell_type": "code",
   "execution_count": 39,
   "metadata": {},
   "outputs": [],
   "source": [
    "# Custom Residual Unit class\n",
    "@keras.utils.register_keras_serializable()\n",
    "class ResidualUnit(keras.layers.Layer):\n",
    "    def __init__(self, filters, strides=1, activation=\"relu\", **kwargs):\n",
    "        super().__init__(**kwargs)\n",
    "        self.activation = keras.activations.get(activation)\n",
    "        self.main_layers = [\n",
    "            keras.layers.Conv2D(filters, 3, strides=strides, padding=\"same\", use_bias=False, kernel_regularizer=keras.regularizers.l2(0.01)),\n",
    "            keras.layers.BatchNormalization(),\n",
    "            self.activation,\n",
    "            keras.layers.Dropout(0.3),  # Added dropout\n",
    "            keras.layers.Conv2D(filters, 3, strides=1, padding=\"same\", use_bias=False, kernel_regularizer=keras.regularizers.l2(0.01)),\n",
    "            keras.layers.BatchNormalization()\n",
    "        ]\n",
    "        self.skip_layers = []\n",
    "        if strides > 1:\n",
    "            self.skip_layers = [\n",
    "                keras.layers.Conv2D(filters, 1, strides=strides, padding=\"same\", use_bias=False, kernel_regularizer=keras.regularizers.l2(0.01)),\n",
    "                keras.layers.BatchNormalization()\n",
    "            ]\n",
    "\n",
    "    def call(self, inputs):\n",
    "        Z = inputs\n",
    "        for layer in self.main_layers:\n",
    "            Z = layer(Z)\n",
    "        skip_Z = inputs\n",
    "        for layer in self.skip_layers:\n",
    "            skip_Z = layer(skip_Z)\n",
    "        return self.activation(Z + skip_Z)"
   ]
  },
  {
   "cell_type": "markdown",
   "metadata": {},
   "source": [
    "# Definición y Configuración del Modelo\n",
    "\n",
    "Este modelo utiliza una arquitectura similar a ResNet, pero fue adaprada para que realizara la clasificación multietiqueta. En el modelo podemos ver diferentes capas:\n",
    "\n",
    "1. **Data augmentation:** Ayuda a crear variaciones de las imágenes, para asegurar ña robustez del modelo ante cambios en la orientación y escalado de las imágenes. Esto es importante porque las radiografías pueden variar en estos aspectos.\n",
    "\n",
    "2. **Arquitectura profunda:** Las capas convolucionales iniciales aprenden características básicas de las imágenes, mientras que las unidades residuales en las capas más profundas capturan patrones complejos. Estas se encargarán de detectar multiples enfermadades que puedan presnetar las imágenes.\n",
    "\n",
    "3. **Salida sigmoid:** Un cambio importante a mencionar es que en este segundo modelo se usa una capa Dense con activación sigmoid en lugar de softmax, ya que sigmoid permite que se activen múltiples neuronas al mismo tiempo, en línea con el enfoque multi-hot."
   ]
  },
  {
   "cell_type": "code",
   "execution_count": 41,
   "metadata": {},
   "outputs": [],
   "source": [
    "# Model definition\n",
    "model = keras.models.Sequential()\n",
    "model.add(keras.layers.Input(shape=(244, 244, 3)))\n",
    "\n",
    "# Data augmentation and scaling\n",
    "model.add(keras.layers.RandomFlip(\"horizontal\"))\n",
    "model.add(keras.layers.RandomRotation(0.1))\n",
    "model.add(keras.layers.RandomZoom(0.2))\n",
    "\n",
    "# ResNet-like architecture\n",
    "model.add(keras.layers.Conv2D(64, 7, strides=2, padding=\"same\", use_bias=False))\n",
    "model.add(keras.layers.BatchNormalization())\n",
    "model.add(keras.layers.Activation(\"relu\"))\n",
    "model.add(keras.layers.MaxPool2D(pool_size=3, strides=2, padding=\"same\"))\n",
    "\n",
    "prev_filters = 64\n",
    "for filters in [64] * 3 + [128] * 4 + [256] * 6 + [512] * 3:\n",
    "    strides = 1 if filters == prev_filters else 2\n",
    "    model.add(ResidualUnit(filters, strides=strides))\n",
    "    prev_filters = filters\n",
    "\n",
    "model.add(keras.layers.GlobalAvgPool2D())\n",
    "model.add(keras.layers.Dropout(0.5))\n",
    "model.add(keras.layers.Dense(15, activation=\"sigmoid\"))  # 15 classes (14 diseases + No Finding)"
   ]
  },
  {
   "cell_type": "markdown",
   "metadata": {},
   "source": [
    "# Compilación del Modelo y Configuración de Callbacks\n",
    "\n",
    "Otro cambio importante en este segundo modelo es que se utiliza la pérdida binary_crossentropy, que calcula la pérdida para cada etiqueta de manera independiente pues en este caso queremos saber todas las posibles enfermedades que se puedan presentar y no solo una.\n",
    "\n",
    "Descripción de las demás métricas que se utilizan:\n",
    "\n",
    "1. **Optimizador Adam:** ayuda a ajustar los pesos del modelo con una tasa de aprendizaje adaptativa, siendo eficiente en términos de recursos y adecuado para este tipo de redes profundas.\n",
    "\n",
    "2. **Callbacks:**\n",
    "    - *ModelCheckpoint* guarda el mejor modelo en función de la pérdida de validación, lo cual es importante para evitar sobreajuste.\n",
    "    - *EarlyStopping* finaliza el entrenamiento si el modelo deja de mejorar en validación después de 10 épocas, lo cual ahorra tiempo y recursos.\n"
   ]
  },
  {
   "cell_type": "code",
   "execution_count": 42,
   "metadata": {},
   "outputs": [],
   "source": [
    "# Compile the model\n",
    "model.compile(\n",
    "    loss=\"binary_crossentropy\",\n",
    "    optimizer=keras.optimizers.Adam(learning_rate=0.001),\n",
    "    metrics=[\n",
    "        \"accuracy\",\n",
    "        keras.metrics.AUC(name=\"AUC\"),\n",
    "        keras.metrics.Precision(name=\"Precision\"),\n",
    "        keras.metrics.Recall(name=\"Recall\"),\n",
    "        keras.metrics.TopKCategoricalAccuracy(k=5, name=\"Top5Accuracy\")\n",
    "    ]\n",
    ")"
   ]
  },
  {
   "cell_type": "code",
   "execution_count": 43,
   "metadata": {},
   "outputs": [],
   "source": [
    "# Callbacks\n",
    "callbacks = [\n",
    "    keras.callbacks.ModelCheckpoint(filepath=\"chest_xray_resnet_v2.keras\", save_best_only=True, monitor=\"val_loss\"),\n",
    "    keras.callbacks.EarlyStopping(monitor=\"val_loss\", patience=5, restore_best_weights=True),\n",
    "    keras.callbacks.ReduceLROnPlateau(monitor=\"val_loss\", factor=0.5, patience=3)\n",
    "]"
   ]
  },
  {
   "cell_type": "code",
   "execution_count": 44,
   "metadata": {},
   "outputs": [],
   "source": [
    "class_weights = {0: 1.0, 1: 1.5, 2: 1.2, 3: 0.8}  # Ajusta según el desbalance"
   ]
  },
  {
   "cell_type": "markdown",
   "metadata": {},
   "source": [
    "# Entrenamiento del Modelo\n",
    "\n",
    "Se entrena el modelo con los datos de entrenamiento, por un total de 10 épocas. El proceso de entrenamiento se lleva a cabo en paralelo con el conjunto de validación, lo que permite monitorear el rendimiento del modelo en datos no vistos.\n",
    "\n",
    "De igual forma por la limitación de procesamiento, los periodos de entrenamiento son bajos."
   ]
  },
  {
   "cell_type": "code",
   "execution_count": 46,
   "metadata": {},
   "outputs": [
    {
     "name": "stdout",
     "output_type": "stream",
     "text": [
      "Epoch 1/20\n",
      "\u001b[1m219/219\u001b[0m \u001b[32m━━━━━━━━━━━━━━━━━━━━\u001b[0m\u001b[37m\u001b[0m \u001b[1m1036s\u001b[0m 5s/step - AUC: 0.7812 - Precision: 0.4325 - Recall: 0.3477 - Top5Accuracy: 0.7922 - accuracy: 0.5112 - loss: 17.9181 - val_AUC: 0.8476 - val_Precision: 0.6067 - val_Recall: 0.5092 - val_Top5Accuracy: 0.8873 - val_accuracy: 0.6067 - val_loss: 0.4359 - learning_rate: 0.0010\n",
      "Epoch 2/20\n",
      "\u001b[1m219/219\u001b[0m \u001b[32m━━━━━━━━━━━━━━━━━━━━\u001b[0m\u001b[37m\u001b[0m \u001b[1m1023s\u001b[0m 5s/step - AUC: 0.8143 - Precision: 0.5899 - Recall: 0.3557 - Top5Accuracy: 0.8298 - accuracy: 0.5826 - loss: 0.4827 - val_AUC: 0.8417 - val_Precision: 0.6067 - val_Recall: 0.5092 - val_Top5Accuracy: 0.8727 - val_accuracy: 0.6067 - val_loss: 0.4340 - learning_rate: 0.0010\n",
      "Epoch 3/20\n",
      "\u001b[1m219/219\u001b[0m \u001b[32m━━━━━━━━━━━━━━━━━━━━\u001b[0m\u001b[37m\u001b[0m \u001b[1m976s\u001b[0m 4s/step - AUC: 0.8167 - Precision: 0.5748 - Recall: 0.3669 - Top5Accuracy: 0.8376 - accuracy: 0.5795 - loss: 0.6283 - val_AUC: 0.8117 - val_Precision: 0.6067 - val_Recall: 0.5092 - val_Top5Accuracy: 0.8847 - val_accuracy: 0.6067 - val_loss: 0.8331 - learning_rate: 0.0010\n",
      "Epoch 4/20\n",
      "\u001b[1m219/219\u001b[0m \u001b[32m━━━━━━━━━━━━━━━━━━━━\u001b[0m\u001b[37m\u001b[0m \u001b[1m985s\u001b[0m 5s/step - AUC: 0.8230 - Precision: 0.5897 - Recall: 0.4011 - Top5Accuracy: 0.8449 - accuracy: 0.5888 - loss: 0.5231 - val_AUC: 0.7412 - val_Precision: 0.6067 - val_Recall: 0.5092 - val_Top5Accuracy: 0.8033 - val_accuracy: 0.6067 - val_loss: 2.0008 - learning_rate: 0.0010\n",
      "Epoch 5/20\n",
      "\u001b[1m219/219\u001b[0m \u001b[32m━━━━━━━━━━━━━━━━━━━━\u001b[0m\u001b[37m\u001b[0m \u001b[1m974s\u001b[0m 4s/step - AUC: 0.8257 - Precision: 0.5910 - Recall: 0.4101 - Top5Accuracy: 0.8555 - accuracy: 0.5936 - loss: 0.4513 - val_AUC: 0.7543 - val_Precision: 0.6067 - val_Recall: 0.5092 - val_Top5Accuracy: 0.7880 - val_accuracy: 0.6067 - val_loss: 0.9981 - learning_rate: 0.0010\n",
      "Epoch 6/20\n",
      "\u001b[1m219/219\u001b[0m \u001b[32m━━━━━━━━━━━━━━━━━━━━\u001b[0m\u001b[37m\u001b[0m \u001b[1m974s\u001b[0m 4s/step - AUC: 0.8323 - Precision: 0.5954 - Recall: 0.4463 - Top5Accuracy: 0.8621 - accuracy: 0.5953 - loss: 0.3589 - val_AUC: 0.8525 - val_Precision: 0.6067 - val_Recall: 0.5092 - val_Top5Accuracy: 0.8873 - val_accuracy: 0.6067 - val_loss: 0.2825 - learning_rate: 5.0000e-04\n",
      "Epoch 7/20\n",
      "\u001b[1m219/219\u001b[0m \u001b[32m━━━━━━━━━━━━━━━━━━━━\u001b[0m\u001b[37m\u001b[0m \u001b[1m975s\u001b[0m 4s/step - AUC: 0.8340 - Precision: 0.5995 - Recall: 0.4551 - Top5Accuracy: 0.8642 - accuracy: 0.5958 - loss: 0.2910 - val_AUC: 0.8503 - val_Precision: 0.6067 - val_Recall: 0.5092 - val_Top5Accuracy: 0.8667 - val_accuracy: 0.6067 - val_loss: 0.2795 - learning_rate: 5.0000e-04\n",
      "Epoch 8/20\n",
      "\u001b[1m219/219\u001b[0m \u001b[32m━━━━━━━━━━━━━━━━━━━━\u001b[0m\u001b[37m\u001b[0m \u001b[1m978s\u001b[0m 4s/step - AUC: 0.8304 - Precision: 0.5969 - Recall: 0.4539 - Top5Accuracy: 0.8556 - accuracy: 0.5899 - loss: 0.4058 - val_AUC: 0.8514 - val_Precision: 0.6067 - val_Recall: 0.5092 - val_Top5Accuracy: 0.8667 - val_accuracy: 0.6067 - val_loss: 0.2618 - learning_rate: 5.0000e-04\n",
      "Epoch 9/20\n",
      "\u001b[1m219/219\u001b[0m \u001b[32m━━━━━━━━━━━━━━━━━━━━\u001b[0m\u001b[37m\u001b[0m \u001b[1m989s\u001b[0m 5s/step - AUC: 0.8369 - Precision: 0.5966 - Recall: 0.4691 - Top5Accuracy: 0.8697 - accuracy: 0.5965 - loss: 0.3016 - val_AUC: 0.8524 - val_Precision: 0.6067 - val_Recall: 0.5092 - val_Top5Accuracy: 0.8873 - val_accuracy: 0.6067 - val_loss: 0.2591 - learning_rate: 5.0000e-04\n",
      "Epoch 10/20\n",
      "\u001b[1m219/219\u001b[0m \u001b[32m━━━━━━━━━━━━━━━━━━━━\u001b[0m\u001b[37m\u001b[0m \u001b[1m973s\u001b[0m 4s/step - AUC: 0.8349 - Precision: 0.6010 - Recall: 0.4590 - Top5Accuracy: 0.8683 - accuracy: 0.5965 - loss: 0.2966 - val_AUC: 0.8515 - val_Precision: 0.6067 - val_Recall: 0.5092 - val_Top5Accuracy: 0.8873 - val_accuracy: 0.6067 - val_loss: 0.2736 - learning_rate: 5.0000e-04\n",
      "Epoch 11/20\n",
      "\u001b[1m219/219\u001b[0m \u001b[32m━━━━━━━━━━━━━━━━━━━━\u001b[0m\u001b[37m\u001b[0m \u001b[1m991s\u001b[0m 5s/step - AUC: 0.8396 - Precision: 0.5971 - Recall: 0.4771 - Top5Accuracy: 0.8688 - accuracy: 0.5965 - loss: 0.2867 - val_AUC: 0.8548 - val_Precision: 0.6067 - val_Recall: 0.5092 - val_Top5Accuracy: 0.8867 - val_accuracy: 0.6067 - val_loss: 0.2598 - learning_rate: 5.0000e-04\n",
      "Epoch 12/20\n",
      "\u001b[1m219/219\u001b[0m \u001b[32m━━━━━━━━━━━━━━━━━━━━\u001b[0m\u001b[37m\u001b[0m \u001b[1m974s\u001b[0m 4s/step - AUC: 0.8386 - Precision: 0.6025 - Recall: 0.4674 - Top5Accuracy: 0.8670 - accuracy: 0.5969 - loss: 0.2878 - val_AUC: 0.8538 - val_Precision: 0.6679 - val_Recall: 0.1013 - val_Top5Accuracy: 0.8893 - val_accuracy: 0.6067 - val_loss: 0.2657 - learning_rate: 5.0000e-04\n",
      "Epoch 13/20\n",
      "\u001b[1m219/219\u001b[0m \u001b[32m━━━━━━━━━━━━━━━━━━━━\u001b[0m\u001b[37m\u001b[0m \u001b[1m972s\u001b[0m 4s/step - AUC: 0.8412 - Precision: 0.6034 - Recall: 0.4727 - Top5Accuracy: 0.8693 - accuracy: 0.5969 - loss: 0.2470 - val_AUC: 0.8558 - val_Precision: 0.6067 - val_Recall: 0.5092 - val_Top5Accuracy: 0.8873 - val_accuracy: 0.6067 - val_loss: 0.2304 - learning_rate: 2.5000e-04\n",
      "Epoch 14/20\n",
      "\u001b[1m219/219\u001b[0m \u001b[32m━━━━━━━━━━━━━━━━━━━━\u001b[0m\u001b[37m\u001b[0m \u001b[1m974s\u001b[0m 4s/step - AUC: 0.8403 - Precision: 0.5979 - Recall: 0.4807 - Top5Accuracy: 0.8681 - accuracy: 0.5969 - loss: 0.2703 - val_AUC: 0.8469 - val_Precision: 0.6067 - val_Recall: 0.5092 - val_Top5Accuracy: 0.8873 - val_accuracy: 0.6067 - val_loss: 0.2328 - learning_rate: 2.5000e-04\n",
      "Epoch 15/20\n",
      "\u001b[1m219/219\u001b[0m \u001b[32m━━━━━━━━━━━━━━━━━━━━\u001b[0m\u001b[37m\u001b[0m \u001b[1m973s\u001b[0m 4s/step - AUC: 0.8415 - Precision: 0.5983 - Recall: 0.4744 - Top5Accuracy: 0.8745 - accuracy: 0.5968 - loss: 0.2554 - val_AUC: 0.8495 - val_Precision: 0.6067 - val_Recall: 0.5092 - val_Top5Accuracy: 0.8667 - val_accuracy: 0.6067 - val_loss: 0.2245 - learning_rate: 2.5000e-04\n",
      "Epoch 16/20\n",
      "\u001b[1m219/219\u001b[0m \u001b[32m━━━━━━━━━━━━━━━━━━━━\u001b[0m\u001b[37m\u001b[0m \u001b[1m972s\u001b[0m 4s/step - AUC: 0.8422 - Precision: 0.5969 - Recall: 0.4843 - Top5Accuracy: 0.8709 - accuracy: 0.5969 - loss: 0.2365 - val_AUC: 0.8535 - val_Precision: 0.6067 - val_Recall: 0.5092 - val_Top5Accuracy: 0.8753 - val_accuracy: 0.6067 - val_loss: 0.2275 - learning_rate: 2.5000e-04\n",
      "Epoch 17/20\n",
      "\u001b[1m219/219\u001b[0m \u001b[32m━━━━━━━━━━━━━━━━━━━━\u001b[0m\u001b[37m\u001b[0m \u001b[1m980s\u001b[0m 4s/step - AUC: 0.8429 - Precision: 0.6014 - Recall: 0.4865 - Top5Accuracy: 0.8742 - accuracy: 0.5969 - loss: 0.2339 - val_AUC: 0.8540 - val_Precision: 0.6067 - val_Recall: 0.5092 - val_Top5Accuracy: 0.8773 - val_accuracy: 0.6067 - val_loss: 0.2265 - learning_rate: 2.5000e-04\n",
      "Epoch 18/20\n",
      "\u001b[1m219/219\u001b[0m \u001b[32m━━━━━━━━━━━━━━━━━━━━\u001b[0m\u001b[37m\u001b[0m \u001b[1m978s\u001b[0m 4s/step - AUC: 0.8425 - Precision: 0.5998 - Recall: 0.4877 - Top5Accuracy: 0.8687 - accuracy: 0.5969 - loss: 0.2365 - val_AUC: 0.8520 - val_Precision: 0.6067 - val_Recall: 0.5092 - val_Top5Accuracy: 0.8747 - val_accuracy: 0.6067 - val_loss: 0.2344 - learning_rate: 2.5000e-04\n",
      "Epoch 19/20\n",
      "\u001b[1m219/219\u001b[0m \u001b[32m━━━━━━━━━━━━━━━━━━━━\u001b[0m\u001b[37m\u001b[0m \u001b[1m979s\u001b[0m 4s/step - AUC: 0.8439 - Precision: 0.5994 - Recall: 0.4900 - Top5Accuracy: 0.8779 - accuracy: 0.5969 - loss: 0.2255 - val_AUC: 0.8520 - val_Precision: 0.6067 - val_Recall: 0.5092 - val_Top5Accuracy: 0.8747 - val_accuracy: 0.6067 - val_loss: 0.2134 - learning_rate: 1.2500e-04\n",
      "Epoch 20/20\n",
      "\u001b[1m219/219\u001b[0m \u001b[32m━━━━━━━━━━━━━━━━━━━━\u001b[0m\u001b[37m\u001b[0m \u001b[1m973s\u001b[0m 4s/step - AUC: 0.8445 - Precision: 0.6003 - Recall: 0.4867 - Top5Accuracy: 0.8738 - accuracy: 0.5969 - loss: 0.2287 - val_AUC: 0.8485 - val_Precision: 0.6067 - val_Recall: 0.5092 - val_Top5Accuracy: 0.8873 - val_accuracy: 0.6067 - val_loss: 0.2158 - learning_rate: 1.2500e-04\n"
     ]
    }
   ],
   "source": [
    "# Train the model\n",
    "history = model.fit(\n",
    "    train_dataset,\n",
    "    epochs=20,\n",
    "    validation_data=val_dataset,\n",
    "    callbacks=callbacks\n",
    ")"
   ]
  },
  {
   "cell_type": "markdown",
   "metadata": {},
   "source": [
    "# Visualización de Resultados\n"
   ]
  },
  {
   "cell_type": "code",
   "execution_count": 47,
   "metadata": {},
   "outputs": [
    {
     "data": {
      "image/png": "[encoded data removed]",
      "text/plain": [
       "<Figure size 1600x400 with 2 Axes>"
      ]
     },
     "metadata": {},
     "output_type": "display_data"
    }
   ],
   "source": [
    "# Graficación de los resultados del entrenamiento\n",
    "plt.figure(figsize=(16, 4))\n",
    "\n",
    "# Gráfica de pérdida\n",
    "plt.subplot(121)\n",
    "plt.plot(history.history['loss'], label='Training Loss')\n",
    "plt.plot(history.history['val_loss'], label='Validation Loss')\n",
    "plt.xlabel('Epoch')\n",
    "plt.ylabel('Loss')\n",
    "plt.legend()\n",
    "\n",
    "# Gráfica de accuracy\n",
    "plt.subplot(122)\n",
    "plt.plot(history.history['accuracy'], label='Training Accuracy')\n",
    "plt.plot(history.history['val_accuracy'], label='Validation Accuracy')\n",
    "plt.xlabel('Epoch')\n",
    "plt.ylabel('Accuracy')\n",
    "plt.legend()\n",
    "\n",
    "plt.show()"
   ]
  },
  {
   "cell_type": "code",
   "execution_count": 48,
   "metadata": {},
   "outputs": [
    {
     "name": "stdout",
     "output_type": "stream",
     "text": [
      "\u001b[1m47/47\u001b[0m \u001b[32m━━━━━━━━━━━━━━━━━━━━\u001b[0m\u001b[37m\u001b[0m \u001b[1m44s\u001b[0m 925ms/step - AUC: 0.8409 - Precision: 0.5961 - Recall: 0.5019 - Top5Accuracy: 0.8664 - accuracy: 0.5961 - loss: 0.2168\n",
      "Test Accuracy: 0.6093\n",
      "Test AUC: 0.8514\n",
      "Test Precision: 0.6093\n",
      "Test Recall: 0.5181\n",
      "Test Top-5 Accuracy: 0.8693\n"
     ]
    }
   ],
   "source": [
    "# Evaluate the model\n",
    "test_loss, test_accuracy, test_auc, test_precision, test_recall, test_top5 = model.evaluate(test_dataset)\n",
    "print(f\"Test Accuracy: {test_accuracy:.4f}\")\n",
    "print(f\"Test AUC: {test_auc:.4f}\")\n",
    "print(f\"Test Precision: {test_precision:.4f}\")\n",
    "print(f\"Test Recall: {test_recall:.4f}\")\n",
    "print(f\"Test Top-5 Accuracy: {test_top5:.4f}\")"
   ]
  },
  {
   "cell_type": "code",
   "execution_count": 49,
   "metadata": {},
   "outputs": [
    {
     "name": "stdout",
     "output_type": "stream",
     "text": [
      "\u001b[1m47/47\u001b[0m \u001b[32m━━━━━━━━━━━━━━━━━━━━\u001b[0m\u001b[37m\u001b[0m \u001b[1m50s\u001b[0m 1s/step\n"
     ]
    },
    {
     "data": {
      "image/png": "[encoded data removed]",
      "text/plain": [
       "<Figure size 1000x800 with 2 Axes>"
      ]
     },
     "metadata": {},
     "output_type": "display_data"
    }
   ],
   "source": [
    "# Predictions for confusion matrix\n",
    "y_true = np.concatenate([y for x, y in test_dataset], axis=0)\n",
    "y_pred = model.predict(test_dataset)\n",
    "y_pred_classes = np.argmax(y_pred, axis=1)\n",
    "y_true_classes = np.argmax(y_true, axis=1)\n",
    "\n",
    "# Confusion Matrix\n",
    "cm = confusion_matrix(y_true_classes, y_pred_classes)\n",
    "plt.figure(figsize=(10, 8))\n",
    "sns.heatmap(cm, annot=True, fmt=\"d\", cmap=\"Blues\")\n",
    "plt.xlabel(\"Predicted\")\n",
    "plt.ylabel(\"Actual\")\n",
    "plt.title(\"Confusion Matrix\")\n",
    "plt.show()"
   ]
  },
  {
   "cell_type": "markdown",
   "metadata": {},
   "source": [
    "# Conclusión\n",
    "\n",
    "El segundo modelo emplea una arquitectura basada en ResNet, diseñada específicamente para mejorar la capacidad de detección de múltiples enfermedades en radiografías mediante una red residual. \n",
    "\n",
    "Con técnicas avanzadas como data augmentation, codificación multi-hot de etiquetas, y unidades residuales personalizadas, el modelo muestra una mejora notable en precisión (0.609). \n",
    "\n",
    "Sin embargo, esta precisión aún deja espacio para mejorar y sugiere que la reducción del conjunto de datos podría estar afectando el rendimiento.Este bajo rendimiento se le puede atribuir a la seleccion manual de los datos para reducir el procesamiento computacional lo que puede resultar en un mal balanceamento de datos que se puede inclinar a una sola clase.\n",
    "\n",
    "\n",
    "Este enfoque más profundo confirma que la arquitectura influye significativamente en la capacidad de clasificación, y establece una base sólida para futuras mejoras en aplicaciones médicas de deep learning."
   ]
  },
  {
   "cell_type": "markdown",
   "metadata": {},
   "source": [
    "# Predicción"
   ]
  },
  {
   "cell_type": "code",
   "execution_count": 50,
   "metadata": {},
   "outputs": [],
   "source": [
    "from tensorflow.keras.utils import load_img, img_to_array"
   ]
  },
  {
   "cell_type": "code",
   "execution_count": 51,
   "metadata": {},
   "outputs": [],
   "source": [
    "labels = [\n",
    "    \"Atelectasis\", \"Cardiomegaly\", \"Effusion\", \"Infiltration\",\n",
    "    \"Mass\", \"Nodule\", \"Pneumonia\", \"Pneumothorax\",\n",
    "    \"Consolidation\", \"Edema\", \"Emphysema\", \"Fibrosis\",\n",
    "    \"Pleural Thickening\", \"Hernia\", \"No Finding\"\n",
    "]"
   ]
  },
  {
   "cell_type": "code",
   "execution_count": 60,
   "metadata": {},
   "outputs": [],
   "source": [
    "df_pred = pd.read_csv(\"Data_Entry_2017.csv\") "
   ]
  },
  {
   "cell_type": "code",
   "execution_count": 81,
   "metadata": {},
   "outputs": [],
   "source": [
    "def predict_image(img_path, model, labels):\n",
    "    # Cargar y procesar la imagen\n",
    "    img = load_img(img_path, target_size=(244, 244))  # Usar load_img de keras.utils\n",
    "    img_array = img_to_array(img)  # Convertir la imagen a un array\n",
    "    img_array = np.expand_dims(img_array, axis=0)  # Agregar dimensión batch\n",
    "    img_array = img_array / 255.0  # Normalizar la imagen\n",
    "\n",
    "    # Hacer la predicción\n",
    "    predictions = model.predict(img_array, verbose=0)  # verbose=0 para evitar logs excesivos\n",
    "    predictions = predictions[0]  # Extraer la primera fila de predicciones (ya que es batch de 1)\n",
    "\n",
    "    # Ordenar las predicciones de mayor a menor probabilidad\n",
    "    sorted_indices = np.argsort(predictions)[::-1]  # Índices ordenados en orden descendente\n",
    "    top_5_indices = sorted_indices[:5]  # Obtener los índices de las 5 predicciones más altas\n",
    "    top_5_labels = [(labels[i], predictions[i]) for i in top_5_indices]\n",
    "\n",
    "    # Mostrar las 5 predicciones más probables\n",
    "    formatted_top_5 = \"\\n\".join([f\"{label}: {prob:.2f}\" for label, prob in top_5_labels])\n",
    "\n",
    "     # Extraer el nombre de la imagen y buscar en el CSV\n",
    "    img_name = img_path.split(\"/\")[-1] # Extraer el nombre base sin extensión\n",
    "    real_value = df_pred.loc[df_pred[\"Image Index\"] == img_name, \"Finding Labels\"].values  # Buscar en el DataFrame\n",
    "\n",
    "    # Construir la salida deseada\n",
    "    print(\"Top 5 predicciones más probables:\")\n",
    "    print(formatted_top_5)\n",
    "\n",
    "    if real_value.size > 0:\n",
    "        print(f\"\\nEtiquetas reales de la imagen {img_name} en el CSV: {real_value[0]}\")\n",
    "    else:\n",
    "        print(f\"\\nEtiquetas reales de la imagen {img_name} en el CSV: No se encontró.\")"
   ]
  },
  {
   "cell_type": "code",
   "execution_count": 82,
   "metadata": {},
   "outputs": [
    {
     "name": "stdout",
     "output_type": "stream",
     "text": [
      "Top 5 predicciones más probables:\n",
      "No Finding: 0.51\n",
      "Infiltration: 0.22\n",
      "Effusion: 0.13\n",
      "Atelectasis: 0.11\n",
      "Consolidation: 0.06\n",
      "\n",
      "Etiquetas reales de la imagen 00000143_002.png en el CSV: Effusion|Infiltration\n"
     ]
    }
   ],
   "source": [
    "# Llamar a la función con la ruta de la imagen a predecir\n",
    "predict_image(\"image_Predict/00000143_002.png\", model, labels)"
   ]
  }
 ],
 "metadata": {
  "kernelspec": {
   "display_name": "ml_env",
   "language": "python",
   "name": "python3"
  },
  "language_info": {
   "codemirror_mode": {
    "name": "ipython",
    "version": 3
   },
   "file_extension": ".py",
   "mimetype": "text/x-python",
   "name": "python",
   "nbconvert_exporter": "python",
   "pygments_lexer": "ipython3",
   "version": "3.12.4"
  }
 },
 "nbformat": 4,
 "nbformat_minor": 2
}
